{
 "cells": [
  {
   "cell_type": "code",
   "execution_count": 1,
   "metadata": {},
   "outputs": [],
   "source": [
    "from splinter import Browser\n",
    "import time \n",
    "import numpy as np\n",
    "import requests\n",
    "import pandas as pd\n",
    "from collections import Counter\n",
    "import os\n",
    "import logging"
   ]
  },
  {
   "cell_type": "code",
   "execution_count": null,
   "metadata": {},
   "outputs": [],
   "source": [
    "SAVING_PATH = '/Users/amr/Downloads/MIT_LA/'\n",
    "COURSE_URL = ''"
   ]
  },
  {
   "cell_type": "markdown",
   "metadata": {},
   "source": [
    "### Helper functions "
   ]
  },
  {
   "cell_type": "code",
   "execution_count": null,
   "metadata": {},
   "outputs": [],
   "source": [
    "def local_name_check(saving_name):\n",
    "    '''\n",
    "    A function to avoid overwriting\n",
    "    Input: desired saving name\n",
    "    Output: the same name with an additional \"_1\" suffiex if the same file name already existed\n",
    "    '''\n",
    "    \n",
    "    if os.path.isfile(saving_name):\n",
    "        file_extension = saving_name[::-1].split('.', 1)[0][::-1]\n",
    "        print(file_extension)\n",
    "        saving_name = saving_name.strip('.'+file_extension) + \"_1\" + \".\"+file_extension\n",
    "        print(saving_name)\n",
    "    return saving_name\n",
    "\n",
    "\n",
    "# source:\n",
    "# https://www.codementor.io/aviaryan/downloading-files-from-urls-in-python-77q3bs0un\n",
    "\n",
    "def is_downloadable(url):\n",
    "    \"\"\"\n",
    "    Does the url contain a downloadable resource\n",
    "    \"\"\"\n",
    "    h = requests.head(url, allow_redirects=True)\n",
    "    header = h.headers\n",
    "    content_type = header.get('content-type')\n",
    "    if 'text' in content_type.lower():\n",
    "        return False\n",
    "    if 'html' in content_type.lower():\n",
    "        return False\n",
    "    return True\n",
    "\n",
    "def download_file(url, saving_name):\n",
    "    '''\n",
    "    Downloads a file to the \"saving_name\" directory\n",
    "    Returns the final saved name\n",
    "    '''\n",
    "    \n",
    "    saving_name = local_name_check(saving_name)\n",
    "    # NOTE the stream=True parameter\n",
    "    r = requests.get(url, stream=True, allow_redirects=True)\n",
    "    \n",
    "    with open(saving_name, 'wb') as f:\n",
    "        for chunk in r.iter_content(chunk_size=1024): \n",
    "            if chunk: # filter out keep-alive new chunks\n",
    "                f.write(chunk)\n",
    "                #f.flush() commented by recommendation from J.F.Sebastian\n",
    "    return saving_name"
   ]
  },
  {
   "cell_type": "markdown",
   "metadata": {},
   "source": [
    "### Scrape videos' URLs"
   ]
  },
  {
   "cell_type": "code",
   "execution_count": 82,
   "metadata": {},
   "outputs": [],
   "source": [
    "browser = Browser(\"chrome\")\n",
    "browser.visit(COURSE_URL)"
   ]
  },
  {
   "cell_type": "code",
   "execution_count": 83,
   "metadata": {},
   "outputs": [],
   "source": [
    "\n",
    "vids_pages = []\n",
    "\n",
    "# scrape all links to videos' pages until \"Next\" button no more exist.\n",
    "while True:\n",
    "    \n",
    "    vids = browser.find_by_css(\"#middle > div > p > span > a\")\n",
    "    vids_pages.extend([(x.text, x['href']) for x in vids])\n",
    "    \n",
    "    # keep adding videos if there is \n",
    "    if browser.is_element_present_by_css('''#middle > div > div.diytube-pager > span > a.diytube-pager-next'''):\n",
    "        browser.find_by_css('''#middle > div > div.diytube-pager > span > a.diytube-pager-next''').click()\n",
    "    else:\n",
    "        break;\n",
    "    "
   ]
  },
  {
   "cell_type": "markdown",
   "metadata": {},
   "source": [
    "### Download videos"
   ]
  },
  {
   "cell_type": "code",
   "execution_count": 1,
   "metadata": {},
   "outputs": [],
   "source": [
    "downloaded_vids = []\n",
    "failed_downloads = []\n",
    "\n",
    "# browser = Browser(\"chrome\")\n",
    "\n",
    "\n",
    "for i, (video_name, video_page_link) in enumerate(vids_pages[::-1]):\n",
    "    \n",
    "    try:\n",
    "        browser.visit(video_page_link)\n",
    "        \n",
    "        # There is a 255 max character limit on mac file system, \n",
    "        # also \"/\" inside a file name could interpreted as a folder name seperator\n",
    "        saving_name = SAVING_PATH + str(i) + \"_\" + re.sub('''[\\(\\)\\/\\\\:]''', \"\", video_name[:200])+ \".mp4\"\n",
    "        text_box = browser.find_by_css('''#middle > div > div.diytube-embed-html''').text\n",
    "        downloadable_vid = text_box[text_box.find('src') + 5:].split('\\\"')[0]\n",
    "        print('Downloading: ', downloadable_vid)\n",
    "        if is_downloadable(downloadable_vid):\n",
    "            saving_name = download_file(downloadable_vid, saving_name)\n",
    "            downloaded_vids.append((saving_name, downloadable_vid))\n",
    "            \n",
    "    except Exception as e:\n",
    "        logging.error('Failed to download a file, '+ str(e))\n",
    "        failed_downloads.append((video_name, video_page_link))"
   ]
  }
 ],
 "metadata": {
  "kernelspec": {
   "display_name": "Python 3",
   "language": "python",
   "name": "python3"
  },
  "language_info": {
   "codemirror_mode": {
    "name": "ipython",
    "version": 3
   },
   "file_extension": ".py",
   "mimetype": "text/x-python",
   "name": "python",
   "nbconvert_exporter": "python",
   "pygments_lexer": "ipython3",
   "version": "3.7.0"
  }
 },
 "nbformat": 4,
 "nbformat_minor": 2
}
